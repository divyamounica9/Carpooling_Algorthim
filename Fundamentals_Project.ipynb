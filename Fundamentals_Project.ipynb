{
  "nbformat": 4,
  "nbformat_minor": 0,
  "metadata": {
    "colab": {
      "name": "Fundamentals Project",
      "provenance": [],
      "collapsed_sections": []
    },
    "kernelspec": {
      "name": "python3",
      "display_name": "Python 3"
    },
    "language_info": {
      "name": "python"
    }
  },
  "cells": [
    {
      "cell_type": "markdown",
      "source": [
        "# Install Libraries"
      ],
      "metadata": {
        "id": "D3Af8QwaeQ4A"
      }
    },
    {
      "cell_type": "code",
      "execution_count": 2,
      "metadata": {
        "colab": {
          "base_uri": "https://localhost:8080/"
        },
        "id": "4CDPAeEZoDxH",
        "outputId": "1b19d777-26e2-4889-e16d-54053136f53f"
      },
      "outputs": [
        {
          "output_type": "stream",
          "name": "stdout",
          "text": [
            "Collecting treelib\n",
            "  Downloading treelib-1.6.1.tar.gz (24 kB)\n",
            "Requirement already satisfied: future in /usr/local/lib/python3.7/dist-packages (from treelib) (0.16.0)\n",
            "Building wheels for collected packages: treelib\n",
            "  Building wheel for treelib (setup.py) ... \u001b[?25l\u001b[?25hdone\n",
            "  Created wheel for treelib: filename=treelib-1.6.1-py3-none-any.whl size=18385 sha256=d5ca72b8ede41437c3b2a4eefe8e0475572626536a8cc994b7a6261b78173795\n",
            "  Stored in directory: /root/.cache/pip/wheels/89/be/94/2c6d949ce599d1443426d83ba4dc93cd35c0f4638260930a53\n",
            "Successfully built treelib\n",
            "Installing collected packages: treelib\n",
            "Successfully installed treelib-1.6.1\n"
          ]
        }
      ],
      "source": [
        "!pip install treelib"
      ]
    },
    {
      "cell_type": "code",
      "source": [
        "from treelib import Node, Tree"
      ],
      "metadata": {
        "id": "pPk1y3FzoGdf"
      },
      "execution_count": 3,
      "outputs": []
    },
    {
      "cell_type": "markdown",
      "source": [
        "# Format Data"
      ],
      "metadata": {
        "id": "Ynq0tXfaeVCN"
      }
    },
    {
      "cell_type": "code",
      "source": [
        "destination = [33,32.9,12,11,39]\n",
        "\n",
        "distance_to_traveler = [\n",
        "    [0,.1,22,29,43],\n",
        "    [.1,0,22,29,43],\n",
        "    [22,22,0,6,40],\n",
        "    [29,29,6,0,34],\n",
        "    [43,43,40,34,0]\n",
        "]"
      ],
      "metadata": {
        "id": "rXvYTVrOofnp"
      },
      "execution_count": 4,
      "outputs": []
    },
    {
      "cell_type": "markdown",
      "source": [
        "# Create all possible Combinations of Travel for 5 People"
      ],
      "metadata": {
        "id": "jTyRCmcZeZue"
      }
    },
    {
      "cell_type": "code",
      "source": [
        "combinations = []\n",
        "count = 0\n",
        "\n",
        "for a in range(1):\n",
        "  #print(a)\n",
        "  combinations.append([])\n",
        "  combinations[count].append(a)\n",
        "  count += 1\n",
        "  for b in range(5):\n",
        "    if(a != b):\n",
        "      combinations.append([])\n",
        "      combinations[count].append(a)\n",
        "      combinations[count].append(b)\n",
        "      count += 1\n",
        "      #print(a, b)\n",
        "    for c in range(5):\n",
        "      if(a != b and b != c and c != a):\n",
        "        combinations.append([])\n",
        "        combinations[count].append(a)\n",
        "        combinations[count].append(b)\n",
        "        combinations[count].append(c)\n",
        "        count += 1\n",
        "      for d in range(5):\n",
        "        if(a != b and b != c and c != a and d != a and d != b and d != c):\n",
        "          combinations.append([])\n",
        "          combinations[count].append(a)\n",
        "          combinations[count].append(b)\n",
        "          combinations[count].append(c)\n",
        "          combinations[count].append(d)\n",
        "          count += 1\n",
        "        for e in range(5):\n",
        "          if(a != b and b != c and c != a and d != a and d != b and d != c and e != a and e != b and e != c and e != d):\n",
        "            combinations.append([])\n",
        "            combinations[count].append(a)\n",
        "            combinations[count].append(b)\n",
        "            combinations[count].append(c)\n",
        "            combinations[count].append(d)\n",
        "            combinations[count].append(e)\n",
        "            count += 1\n",
        "          #print(a,b,c,d)\n",
        "        #print(a, b, c)\n",
        "  \n",
        "  #print('')       \n",
        "\n",
        "print(combinations)\n"
      ],
      "metadata": {
        "colab": {
          "base_uri": "https://localhost:8080/"
        },
        "id": "QCTJWXZDk7zG",
        "outputId": "679627d9-fe03-4704-a07e-d7fbb1bc7d87"
      },
      "execution_count": 17,
      "outputs": [
        {
          "output_type": "stream",
          "name": "stdout",
          "text": [
            "[[0], [0, 1], [0, 1, 2], [0, 1, 2, 3], [0, 1, 2, 3, 4], [0, 1, 2, 4], [0, 1, 2, 4, 3], [0, 1, 3], [0, 1, 3, 2], [0, 1, 3, 2, 4], [0, 1, 3, 4], [0, 1, 3, 4, 2], [0, 1, 4], [0, 1, 4, 2], [0, 1, 4, 2, 3], [0, 1, 4, 3], [0, 1, 4, 3, 2], [0, 2], [0, 2, 1], [0, 2, 1, 3], [0, 2, 1, 3, 4], [0, 2, 1, 4], [0, 2, 1, 4, 3], [0, 2, 3], [0, 2, 3, 1], [0, 2, 3, 1, 4], [0, 2, 3, 4], [0, 2, 3, 4, 1], [0, 2, 4], [0, 2, 4, 1], [0, 2, 4, 1, 3], [0, 2, 4, 3], [0, 2, 4, 3, 1], [0, 3], [0, 3, 1], [0, 3, 1, 2], [0, 3, 1, 2, 4], [0, 3, 1, 4], [0, 3, 1, 4, 2], [0, 3, 2], [0, 3, 2, 1], [0, 3, 2, 1, 4], [0, 3, 2, 4], [0, 3, 2, 4, 1], [0, 3, 4], [0, 3, 4, 1], [0, 3, 4, 1, 2], [0, 3, 4, 2], [0, 3, 4, 2, 1], [0, 4], [0, 4, 1], [0, 4, 1, 2], [0, 4, 1, 2, 3], [0, 4, 1, 3], [0, 4, 1, 3, 2], [0, 4, 2], [0, 4, 2, 1], [0, 4, 2, 1, 3], [0, 4, 2, 3], [0, 4, 2, 3, 1], [0, 4, 3], [0, 4, 3, 1], [0, 4, 3, 1, 2], [0, 4, 3, 2], [0, 4, 3, 2, 1]]\n"
          ]
        }
      ]
    },
    {
      "cell_type": "code",
      "source": [
        "print(len(combinations))"
      ],
      "metadata": {
        "colab": {
          "base_uri": "https://localhost:8080/"
        },
        "id": "MUKkzSVIyAES",
        "outputId": "6461da2d-eba1-4d79-8198-b5deec2be02d"
      },
      "execution_count": 18,
      "outputs": [
        {
          "output_type": "stream",
          "name": "stdout",
          "text": [
            "65\n"
          ]
        }
      ]
    },
    {
      "cell_type": "markdown",
      "source": [
        "#Get Totals for each Travelers Distance Traveled by each combination"
      ],
      "metadata": {
        "id": "i4IkNMogegWc"
      }
    },
    {
      "cell_type": "code",
      "source": [
        "new_count = 0\n",
        "new_totals = []\n",
        "new_root = 0\n",
        "\n",
        "separator = \"-\"\n",
        "carpool = Tree()\n",
        "carpool.create_node(\"Root\",  \"root\")\n",
        "\n",
        "while new_count < len(combinations):\n",
        "  for a in range(len(combinations)):\n",
        "    if(len(combinations[a]) == 1):\n",
        "      new_totals.append([])\n",
        "      new_totals[new_count].append(destination[combinations[a][0]])\n",
        "\n",
        "      new_root = round(new_count / 65)\n",
        "      carpool.create_node(\"Traveler \" + str(new_root), str(new_root), parent=\"root\")\n",
        "\n",
        "      listToStr = ' '.join([str(elem) for elem in combinations[new_count]])\n",
        "      carpool.create_node(\"To Destination: (\" + str(destination[combinations[a][0]]) + \")\", listToStr + \".D\", parent=str(new_root))\n",
        "\n",
        "      new_count += 1\n",
        "      \n",
        "    elif(len(combinations[a]) == 2):\n",
        "      local_total = 0\n",
        "      new_totals.append([])\n",
        "      \n",
        "      local_total += distance_to_traveler[0][combinations[a][1]]\n",
        "      local_total += (destination[combinations[a][1]] / 2)\n",
        "      new_totals[new_count].append(local_total)\n",
        "\n",
        "      listToStr = ' '.join([str(elem) for elem in combinations[new_count]])\n",
        "      carpool.create_node(\"Traveler \" + listToStr + \" to Destination (\" + str(round(local_total,2)) + \")\", listToStr + \".D\", parent=str(new_root))\n",
        "\n",
        "      new_count += 1\n",
        "    \n",
        "    elif(len(combinations[a]) == 3):\n",
        "      local_total = 0\n",
        "      new_totals.append([])\n",
        "      \n",
        "      local_total += distance_to_traveler[0][combinations[a][1]]\n",
        "      local_total += (distance_to_traveler[combinations[a][1]][combinations[a][2]] / 2)\n",
        "      local_total += (destination[combinations[a][2]] / 3)\n",
        "      new_totals[new_count].append(local_total)\n",
        "\n",
        "      listToStr = ' '.join([str(elem) for elem in combinations[new_count]])\n",
        "      carpool.create_node(\"Traveler \" + listToStr + \" to Destination (\" + str(round(local_total,2)) + \")\", listToStr + \".D\", parent=str(new_root))\n",
        "\n",
        "      new_count += 1\n",
        "\n",
        "    elif(len(combinations[a]) == 4):\n",
        "      local_total = 0\n",
        "      new_totals.append([])\n",
        "      \n",
        "      local_total += distance_to_traveler[0][combinations[a][1]]\n",
        "      local_total += (distance_to_traveler[combinations[a][1]][combinations[a][2]] / 2)\n",
        "      local_total += (distance_to_traveler[combinations[a][2]][combinations[a][3]] / 3)\n",
        "      local_total += (destination[combinations[a][3]] / 4)\n",
        "      new_totals[new_count].append(local_total)\n",
        "\n",
        "      listToStr = ' '.join([str(elem) for elem in combinations[new_count]])\n",
        "      carpool.create_node(\"Traveler \" + listToStr + \" to Destination (\" + str(round(local_total,2)) + \")\", listToStr + \".D\", parent=str(new_root))\n",
        "\n",
        "      new_count += 1\n",
        "\n",
        "    elif(len(combinations[a]) == 5):\n",
        "      local_total = 0\n",
        "      new_totals.append([])\n",
        "      \n",
        "      local_total += distance_to_traveler[0][combinations[a][1]]\n",
        "      local_total += (distance_to_traveler[combinations[a][1]][combinations[a][2]] / 2)\n",
        "      local_total += (distance_to_traveler[combinations[a][2]][combinations[a][3]] / 3)\n",
        "      local_total += (distance_to_traveler[combinations[a][3]][combinations[a][4]] / 4)      \n",
        "      local_total += (destination[combinations[a][4]] / 5)\n",
        "      new_totals[new_count].append(local_total)\n",
        "\n",
        "      listToStr = ' '.join([str(elem) for elem in combinations[new_count]])\n",
        "      carpool.create_node(\"Traveler \" + listToStr + \" to Destination (\" + str(round(local_total,2)) + \")\", listToStr + \".D\", parent=str(new_root))\n",
        "\n",
        "      new_count += 1\n",
        "\n",
        "\n",
        "print(new_totals)\n",
        "print(carpool)"
      ],
      "metadata": {
        "colab": {
          "base_uri": "https://localhost:8080/"
        },
        "id": "k7g2o7Jyzq7j",
        "outputId": "f7aa0132-2565-4b74-c5f2-a4ef3768d0b7"
      },
      "execution_count": 22,
      "outputs": [
        {
          "output_type": "stream",
          "name": "stdout",
          "text": [
            "[[33], [16.55], [15.1], [15.85], [29.400000000000002], [34.18333333333334], [35.13333333333334], [18.266666666666666], [19.6], [34.4], [35.68333333333334], [38.333333333333336], [34.6], [37.93333333333334], [38.63333333333334], [35.68333333333334], [36.833333333333336], [28.0], [43.96666666666667], [45.416666666666664], [58.96666666666666], [57.083333333333336], [58.03333333333334], [28.666666666666668], [42.891666666666666], [53.21666666666666], [46.083333333333336], [53.663333333333334], [55.0], [64.55833333333334], [65.78333333333333], [56.083333333333336], [67.16333333333334], [34.5], [54.46666666666667], [53.833333333333336], [68.63333333333334], [67.58333333333334], [70.23333333333335], [36.0], [47.55833333333334], [57.88333333333333], [55.083333333333336], [62.663333333333334], [59.0], [68.55833333333334], [68.23333333333335], [62.333333333333336], [71.41333333333334], [62.5], [75.46666666666667], [74.83333333333333], [75.53333333333333], [76.91666666666667], [78.06666666666668], [67.0], [78.55833333333332], [79.78333333333333], [67.75], [78.83], [63.666666666666664], [77.89166666666667], [77.56666666666668], [65.0], [74.08]]\n",
            "Root\n",
            "└── Traveler 0\n",
            "    ├── To Destination: (33)\n",
            "    ├── Traveler 0 1 2 3 4 to Destination (29.4)\n",
            "    ├── Traveler 0 1 2 3 to Destination (15.85)\n",
            "    ├── Traveler 0 1 2 4 3 to Destination (35.13)\n",
            "    ├── Traveler 0 1 2 4 to Destination (34.18)\n",
            "    ├── Traveler 0 1 2 to Destination (15.1)\n",
            "    ├── Traveler 0 1 3 2 4 to Destination (34.4)\n",
            "    ├── Traveler 0 1 3 2 to Destination (19.6)\n",
            "    ├── Traveler 0 1 3 4 2 to Destination (38.33)\n",
            "    ├── Traveler 0 1 3 4 to Destination (35.68)\n",
            "    ├── Traveler 0 1 3 to Destination (18.27)\n",
            "    ├── Traveler 0 1 4 2 3 to Destination (38.63)\n",
            "    ├── Traveler 0 1 4 2 to Destination (37.93)\n",
            "    ├── Traveler 0 1 4 3 2 to Destination (36.83)\n",
            "    ├── Traveler 0 1 4 3 to Destination (35.68)\n",
            "    ├── Traveler 0 1 4 to Destination (34.6)\n",
            "    ├── Traveler 0 1 to Destination (16.55)\n",
            "    ├── Traveler 0 2 1 3 4 to Destination (58.97)\n",
            "    ├── Traveler 0 2 1 3 to Destination (45.42)\n",
            "    ├── Traveler 0 2 1 4 3 to Destination (58.03)\n",
            "    ├── Traveler 0 2 1 4 to Destination (57.08)\n",
            "    ├── Traveler 0 2 1 to Destination (43.97)\n",
            "    ├── Traveler 0 2 3 1 4 to Destination (53.22)\n",
            "    ├── Traveler 0 2 3 1 to Destination (42.89)\n",
            "    ├── Traveler 0 2 3 4 1 to Destination (53.66)\n",
            "    ├── Traveler 0 2 3 4 to Destination (46.08)\n",
            "    ├── Traveler 0 2 3 to Destination (28.67)\n",
            "    ├── Traveler 0 2 4 1 3 to Destination (65.78)\n",
            "    ├── Traveler 0 2 4 1 to Destination (64.56)\n",
            "    ├── Traveler 0 2 4 3 1 to Destination (67.16)\n",
            "    ├── Traveler 0 2 4 3 to Destination (56.08)\n",
            "    ├── Traveler 0 2 4 to Destination (55.0)\n",
            "    ├── Traveler 0 2 to Destination (28.0)\n",
            "    ├── Traveler 0 3 1 2 4 to Destination (68.63)\n",
            "    ├── Traveler 0 3 1 2 to Destination (53.83)\n",
            "    ├── Traveler 0 3 1 4 2 to Destination (70.23)\n",
            "    ├── Traveler 0 3 1 4 to Destination (67.58)\n",
            "    ├── Traveler 0 3 1 to Destination (54.47)\n",
            "    ├── Traveler 0 3 2 1 4 to Destination (57.88)\n",
            "    ├── Traveler 0 3 2 1 to Destination (47.56)\n",
            "    ├── Traveler 0 3 2 4 1 to Destination (62.66)\n",
            "    ├── Traveler 0 3 2 4 to Destination (55.08)\n",
            "    ├── Traveler 0 3 2 to Destination (36.0)\n",
            "    ├── Traveler 0 3 4 1 2 to Destination (68.23)\n",
            "    ├── Traveler 0 3 4 1 to Destination (68.56)\n",
            "    ├── Traveler 0 3 4 2 1 to Destination (71.41)\n",
            "    ├── Traveler 0 3 4 2 to Destination (62.33)\n",
            "    ├── Traveler 0 3 4 to Destination (59.0)\n",
            "    ├── Traveler 0 3 to Destination (34.5)\n",
            "    ├── Traveler 0 4 1 2 3 to Destination (75.53)\n",
            "    ├── Traveler 0 4 1 2 to Destination (74.83)\n",
            "    ├── Traveler 0 4 1 3 2 to Destination (78.07)\n",
            "    ├── Traveler 0 4 1 3 to Destination (76.92)\n",
            "    ├── Traveler 0 4 1 to Destination (75.47)\n",
            "    ├── Traveler 0 4 2 1 3 to Destination (79.78)\n",
            "    ├── Traveler 0 4 2 1 to Destination (78.56)\n",
            "    ├── Traveler 0 4 2 3 1 to Destination (78.83)\n",
            "    ├── Traveler 0 4 2 3 to Destination (67.75)\n",
            "    ├── Traveler 0 4 2 to Destination (67.0)\n",
            "    ├── Traveler 0 4 3 1 2 to Destination (77.57)\n",
            "    ├── Traveler 0 4 3 1 to Destination (77.89)\n",
            "    ├── Traveler 0 4 3 2 1 to Destination (74.08)\n",
            "    ├── Traveler 0 4 3 2 to Destination (65.0)\n",
            "    ├── Traveler 0 4 3 to Destination (63.67)\n",
            "    └── Traveler 0 4 to Destination (62.5)\n",
            "\n"
          ]
        }
      ]
    },
    {
      "cell_type": "code",
      "source": [
        ""
      ],
      "metadata": {
        "id": "B7XlBIPX-WWt"
      },
      "execution_count": null,
      "outputs": []
    }
  ]
}