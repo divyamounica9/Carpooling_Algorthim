{
  "nbformat": 4,
  "nbformat_minor": 0,
  "metadata": {
    "colab": {
      "name": "Geolocation K Means",
      "provenance": [],
      "collapsed_sections": []
    },
    "kernelspec": {
      "name": "python3",
      "display_name": "Python 3"
    },
    "language_info": {
      "name": "python"
    }
  },
  "cells": [
    {
      "cell_type": "markdown",
      "source": [
        "# Install Libraries"
      ],
      "metadata": {
        "id": "S0Guqdlze4YO"
      }
    },
    {
      "cell_type": "code",
      "source": [
        "!pip install requests"
      ],
      "metadata": {
        "colab": {
          "base_uri": "https://localhost:8080/"
        },
        "id": "Ojs4s6DW5k0-",
        "outputId": "a4e944f2-244a-4e78-9ac6-650bb47ee82c"
      },
      "execution_count": null,
      "outputs": [
        {
          "output_type": "stream",
          "name": "stdout",
          "text": [
            "Requirement already satisfied: requests in /usr/local/lib/python3.7/dist-packages (2.23.0)\n",
            "Requirement already satisfied: urllib3!=1.25.0,!=1.25.1,<1.26,>=1.21.1 in /usr/local/lib/python3.7/dist-packages (from requests) (1.24.3)\n",
            "Requirement already satisfied: chardet<4,>=3.0.2 in /usr/local/lib/python3.7/dist-packages (from requests) (3.0.4)\n",
            "Requirement already satisfied: certifi>=2017.4.17 in /usr/local/lib/python3.7/dist-packages (from requests) (2021.10.8)\n",
            "Requirement already satisfied: idna<3,>=2.5 in /usr/local/lib/python3.7/dist-packages (from requests) (2.10)\n"
          ]
        }
      ]
    },
    {
      "cell_type": "code",
      "source": [
        "import requests"
      ],
      "metadata": {
        "id": "aZcdLyP65p0A"
      },
      "execution_count": null,
      "outputs": []
    },
    {
      "cell_type": "code",
      "source": [
        "import pandas as pd\n",
        "import numpy as np"
      ],
      "metadata": {
        "id": "d1RhprsM54ne"
      },
      "execution_count": null,
      "outputs": []
    },
    {
      "cell_type": "markdown",
      "source": [
        "#Using Google API to get an address Long and Lat"
      ],
      "metadata": {
        "id": "0EGFdDvOe7Q5"
      }
    },
    {
      "cell_type": "code",
      "execution_count": null,
      "metadata": {
        "id": "3T4frk0q4AyI"
      },
      "outputs": [],
      "source": [
        "GOOGLE_API_KEY = '' \n",
        "\n",
        "def extract_lat_long_via_address(address_or_zipcode):\n",
        "    lat, lng = None, None\n",
        "    api_key = GOOGLE_API_KEY\n",
        "    base_url = \"https://maps.googleapis.com/maps/api/geocode/json\"\n",
        "    endpoint = f\"{base_url}?address={address_or_zipcode}&key={api_key}\"\n",
        "    # see how our endpoint includes our API key? Yes this is yet another reason to restrict the key\n",
        "    r = requests.get(endpoint)\n",
        "    if r.status_code not in range(200, 299):\n",
        "        return None, None\n",
        "    try:\n",
        "        '''\n",
        "        This try block incase any of our inputs are invalid. This is done instead\n",
        "        of actually writing out handlers for all kinds of responses.\n",
        "        '''\n",
        "        results = r.json()['results'][0]\n",
        "        lat = results['geometry']['location']['lat']\n",
        "        lng = results['geometry']['location']['lng']\n",
        "    except:\n",
        "        pass\n",
        "    return lat, lng"
      ]
    },
    {
      "cell_type": "code",
      "source": [
        "extract_lat_long_via_address(\"5409 del rey drive Denton, TX 76208\")"
      ],
      "metadata": {
        "colab": {
          "base_uri": "https://localhost:8080/"
        },
        "id": "U4IIZZBk5Zre",
        "outputId": "fe5a1325-6972-485e-e799-36d67f003fcb"
      },
      "execution_count": null,
      "outputs": [
        {
          "output_type": "execute_result",
          "data": {
            "text/plain": [
              "(33.173512, -97.0761271)"
            ]
          },
          "metadata": {},
          "execution_count": 143
        }
      ]
    },
    {
      "cell_type": "code",
      "source": [
        "df = pd.DataFrame({'lat': extract_lat_long_via_address(\"5409 del rey drive Denton, TX 76208\")[0], 'long':  extract_lat_long_via_address(\"5409 del rey drive Denton, TX 76208\")[1]}, index=[0])\n",
        "df2 = pd.DataFrame({'lat': extract_lat_long_via_address(\"3939 Rosemeade Pky Dallas, Texas, 75007\")[0], 'long':  extract_lat_long_via_address(\"3939 Rosemeade Pky Dallas, Texas, 75007\")[1]}, index=[0])\n",
        "df3 = pd.DataFrame({'lat': extract_lat_long_via_address(\"4015 Spring Ave Dallas, Texas, 75210\")[0], 'long':  extract_lat_long_via_address(\"4015 Spring Ave Dallas, Texas, 75210\")[1]}, index=[0])\n",
        "df4 = pd.DataFrame({'lat': extract_lat_long_via_address(\"207 Swisher Rd Lake Dallas, Texas, 75065\")[0], 'long':  extract_lat_long_via_address(\"207 Swisher Rd Lake Dallas, Texas, 75065\")[1]}, index=[0])\n",
        "df5 = pd.DataFrame({'lat': extract_lat_long_via_address(\"4209 Huckleberry Cir Dallas, Texas, 75216\")[0], 'long':  extract_lat_long_via_address(\"4209 Huckleberry Cir Dallas, Texas, 75216\")[1]}, index=[0])\n",
        "df6 = pd.DataFrame({'lat': extract_lat_long_via_address(\"4312 Carpenter Ave Dallas, Texas, 75210\")[0], 'long':  extract_lat_long_via_address(\"4312 Carpenter AveDallas, Texas, 75210\")[1]}, index=[0])\n",
        "df7 = pd.DataFrame({'lat': extract_lat_long_via_address(\"3235 Seevers Ave Dallas, Texas, 75216\")[0], 'long':  extract_lat_long_via_address(\"3235 Seevers Ave Dallas, Texas, 75216\")[1]}, index=[0])\n",
        "df8 = pd.DataFrame({'lat': extract_lat_long_via_address(\"330 E Camp Wisdom Rd Dallas, Texas, 75241\")[0], 'long':  extract_lat_long_via_address(\"330 E Camp Wisdom RdDallas, Texas, 75241\")[1]}, index=[0])\n",
        "df9 = pd.DataFrame({'lat': extract_lat_long_via_address(\"3446 Binkley Ave Dallas, Texas, 75205\")[0], 'long':  extract_lat_long_via_address(\"3446 Binkley Ave Dallas, Texas, 75205\")[1]}, index=[0])\n",
        "df10 = pd.DataFrame({'lat': extract_lat_long_via_address(\"106 Briergate Ln Lake Dallas, Texas, 75065\")[0], 'long':  extract_lat_long_via_address(\"106 Briergate Ln Lake Dallas, Texas, 75065\")[1]}, index=[0])\n",
        "df11 = pd.DataFrame({'lat': extract_lat_long_via_address(\"114 Lake Vista Dr Lake Dallas, Texas, 75065\")[0], 'long':  extract_lat_long_via_address(\"114 Lake Vista Dr Lake Dallas, Texas, 75065\")[1]}, index=[0])\n",
        "df12 = pd.DataFrame({'lat': extract_lat_long_via_address(\"1001 Ross Ave Dallas, Texas, 75202\")[0], 'long':  extract_lat_long_via_address(\"1001 Ross Ave Dallas, Texas, 75202\")[1]}, index=[0])\n",
        "df13 = pd.DataFrame({'lat': extract_lat_long_via_address(\"1234 Adelaide Dr Dallas, Texas, 75216\")[0], 'long':  extract_lat_long_via_address(\"1234 Adelaide Dr Dallas, Texas, 75216\")[1]}, index=[0])\n",
        "df14 = pd.DataFrame({'lat': extract_lat_long_via_address(\"1636 Meadow Valley Ln Dallas, Texas, 75232\")[0], 'long':  extract_lat_long_via_address(\"1636 Meadow Valley Ln Dallas, Texas, 75232\")[1]}, index=[0])\n",
        "\n"
      ],
      "metadata": {
        "id": "VDoUAiR26A5A"
      },
      "execution_count": null,
      "outputs": []
    },
    {
      "cell_type": "markdown",
      "source": [
        "#Create Dataframe with Long and Lat from different addresses"
      ],
      "metadata": {
        "id": "EQW5bUa_fCWW"
      }
    },
    {
      "cell_type": "code",
      "source": [
        "frames = [df, df2, df3, df4, df5, df6, df7, df8, df9, df10, df11, df12, df13, df14]\n",
        "\n",
        "result = pd.concat(frames)"
      ],
      "metadata": {
        "id": "0JDWiLB16S2C"
      },
      "execution_count": null,
      "outputs": []
    },
    {
      "cell_type": "code",
      "source": [
        "print(result)"
      ],
      "metadata": {
        "colab": {
          "base_uri": "https://localhost:8080/"
        },
        "id": "znSznytp8qOO",
        "outputId": "6ea76b8c-d73a-43bb-bbb1-16ab2669f5f3"
      },
      "execution_count": null,
      "outputs": [
        {
          "output_type": "stream",
          "name": "stdout",
          "text": [
            "         lat       long\n",
            "0  33.173512 -97.076127\n",
            "0  33.011212 -96.844805\n",
            "0  32.770935 -96.746969\n",
            "0  33.131061 -97.028321\n",
            "0  32.692574 -96.822345\n",
            "0  32.770092 -96.741940\n",
            "0  32.704665 -96.822058\n",
            "0  32.659085 -96.817348\n",
            "0  32.841009 -96.789178\n",
            "0  33.123488 -97.041884\n",
            "0  33.134590 -97.029714\n",
            "0  32.782624 -96.804707\n",
            "0  32.685558 -96.805364\n",
            "0  32.673786 -96.847894\n"
          ]
        }
      ]
    },
    {
      "cell_type": "code",
      "source": [
        "features = result[['lat', 'long']]\n",
        "print(features)"
      ],
      "metadata": {
        "colab": {
          "base_uri": "https://localhost:8080/"
        },
        "id": "0o6Jo8YGEqmW",
        "outputId": "2ccff491-c842-4eb2-9a53-df9a0a829f80"
      },
      "execution_count": null,
      "outputs": [
        {
          "output_type": "stream",
          "name": "stdout",
          "text": [
            "         lat       long\n",
            "0  33.173512 -97.076127\n",
            "0  33.011212 -96.844805\n",
            "0  32.770935 -96.746969\n",
            "0  33.131061 -97.028321\n",
            "0  32.692574 -96.822345\n",
            "0  32.770092 -96.741940\n",
            "0  32.704665 -96.822058\n",
            "0  32.659085 -96.817348\n",
            "0  32.841009 -96.789178\n",
            "0  33.123488 -97.041884\n",
            "0  33.134590 -97.029714\n",
            "0  32.782624 -96.804707\n",
            "0  32.685558 -96.805364\n",
            "0  32.673786 -96.847894\n"
          ]
        }
      ]
    },
    {
      "cell_type": "markdown",
      "source": [
        "#Create Clustering Algorithm"
      ],
      "metadata": {
        "id": "HhYTfPFHfHPi"
      }
    },
    {
      "cell_type": "code",
      "source": [
        "import sklearn\n",
        "\n",
        "from sklearn.cluster import KMeans"
      ],
      "metadata": {
        "id": "RNP2Q57s9U0J"
      },
      "execution_count": null,
      "outputs": []
    },
    {
      "cell_type": "code",
      "source": [
        "# create kmeans model/object\n",
        "kmeans = KMeans(\n",
        "    init=\"random\",\n",
        "    n_clusters=round((len(result) / 5)),\n",
        "    n_init=10,\n",
        "    max_iter=300,\n",
        "    random_state=42\n",
        ")"
      ],
      "metadata": {
        "id": "_xAYXgKMAdD1"
      },
      "execution_count": null,
      "outputs": []
    },
    {
      "cell_type": "code",
      "source": [
        "# do clustering\n",
        "kmeans.fit(features)\n",
        "# save results\n",
        "labels = kmeans.labels_"
      ],
      "metadata": {
        "id": "ErLQuHMTB1ZU"
      },
      "execution_count": null,
      "outputs": []
    },
    {
      "cell_type": "code",
      "source": [
        "# send back into dataframe and display it\n",
        "result['cluster'] = labels\n",
        "# display the number of mamber each clustering\n",
        "_clusters = result.groupby('cluster').count()\n",
        "print(_clusters)"
      ],
      "metadata": {
        "colab": {
          "base_uri": "https://localhost:8080/"
        },
        "id": "lNhgWTuzEtbJ",
        "outputId": "ce945e58-5cbb-4e8e-c73a-0727ed872414"
      },
      "execution_count": null,
      "outputs": [
        {
          "output_type": "stream",
          "name": "stdout",
          "text": [
            "         lat  long\n",
            "cluster           \n",
            "0          4     4\n",
            "1          5     5\n",
            "2          5     5\n"
          ]
        }
      ]
    },
    {
      "cell_type": "code",
      "source": [
        "print(result)"
      ],
      "metadata": {
        "colab": {
          "base_uri": "https://localhost:8080/"
        },
        "id": "n9CYEu7xJbfD",
        "outputId": "d2b09ee1-eee9-4cf3-faec-983249408821"
      },
      "execution_count": null,
      "outputs": [
        {
          "output_type": "stream",
          "name": "stdout",
          "text": [
            "         lat       long  cluster\n",
            "0  33.173512 -97.076127        0\n",
            "0  33.011212 -96.844805        1\n",
            "0  32.770935 -96.746969        1\n",
            "0  33.131061 -97.028321        0\n",
            "0  32.692574 -96.822345        2\n",
            "0  32.770092 -96.741940        1\n",
            "0  32.704665 -96.822058        2\n",
            "0  32.659085 -96.817348        2\n",
            "0  32.841009 -96.789178        1\n",
            "0  33.123488 -97.041884        0\n",
            "0  33.134590 -97.029714        0\n",
            "0  32.782624 -96.804707        1\n",
            "0  32.685558 -96.805364        2\n",
            "0  32.673786 -96.847894        2\n"
          ]
        }
      ]
    },
    {
      "cell_type": "markdown",
      "source": [
        "#Plot the Points on a Graph"
      ],
      "metadata": {
        "id": "y7iAFp0zfMrC"
      }
    },
    {
      "cell_type": "code",
      "source": [
        "import matplotlib.pyplot as plt"
      ],
      "metadata": {
        "id": "g0__u9AFYNDp"
      },
      "execution_count": null,
      "outputs": []
    },
    {
      "cell_type": "code",
      "source": [
        "x = np.array(result['lat'])\n",
        "y = np.array(result['long'])\n",
        "\n",
        "plt.scatter(x, y,c=result['cluster'])\n",
        "plt.xlabel(\"latitude\")\n",
        "plt.ylabel(\"longitude\")\n",
        "plt.title(\"Cluster by Lat and Long\")\n",
        "plt.show()"
      ],
      "metadata": {
        "colab": {
          "base_uri": "https://localhost:8080/",
          "height": 295
        },
        "id": "iGgyxHP9YNiI",
        "outputId": "79ae913e-ee16-4710-809e-a6b59823ce79"
      },
      "execution_count": null,
      "outputs": [
        {
          "output_type": "display_data",
          "data": {
            "text/plain": [
              "<Figure size 432x288 with 1 Axes>"
            ],
            "image/png": "[encoded data removed]"
          },
          "metadata": {
            "needs_background": "light"
          }
        }
      ]
    },
    {
      "cell_type": "code",
      "source": [
        ""
      ],
      "metadata": {
        "id": "b-T9P6a7YPDa"
      },
      "execution_count": null,
      "outputs": []
    }
  ]
}