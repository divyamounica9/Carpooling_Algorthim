{
 "cells": [
  {
   "cell_type": "code",
   "execution_count": 1,
   "id": "9d26fe87",
   "metadata": {},
   "outputs": [],
   "source": [
    "# in this example Destination is UNT\n",
    "# 1. My House\n",
    "# 2. In laws House\n",
    "# 3. Parents House\n",
    "# 4. Brother House\n",
    "# 5. Drover Hotel Forth Worth\n",
    "\n",
    "destination = [33,32.9,12,11,39]\n",
    "\n",
    "distance_to_traveler = [\n",
    "    [0,.1,22,29,43],\n",
    "    [.1,0,22,29,43],\n",
    "    [22,22,0,6,40],\n",
    "    [29,29,6,0,34],\n",
    "    [43,43,40,34,0]\n",
    "]"
   ]
  },
  {
   "cell_type": "code",
   "execution_count": 57,
   "id": "96f60811",
   "metadata": {},
   "outputs": [
    {
     "name": "stdout",
     "output_type": "stream",
     "text": [
      "Total Cost:  543.575\n"
     ]
    }
   ],
   "source": [
    "# show aggregate distance traveled to destination by each traveler combined\n",
    "def travel_without_carpooling(destination_array, gas_price):\n",
    "    total = 0\n",
    "    for x in range(len(destination_array)):\n",
    "      total += destination_array[x]\n",
    "    print(\"Total Cost: \", total * gas_price)\n",
    "    \n",
    "travel_without_carpooling(destination, 4.25)"
   ]
  },
  {
   "cell_type": "code",
   "execution_count": 14,
   "id": "3cbbc580",
   "metadata": {},
   "outputs": [],
   "source": [
    "# Trying a different algorithm. Testing it out for now\n",
    "def travel_with_carpooling(destination_array, traveler_array):\n",
    "    total = 0\n",
    "    travelers = len(destination_array)\n",
    "    carpool_group = {}\n",
    "    for x in range(travelers):\n",
    "        local_list = []\n",
    "        #carpool_group[x] = []\n",
    "        print(\"Traveler \", x + 1)\n",
    "        for y in range(travelers):\n",
    "            count = 0\n",
    "            local_total = 0\n",
    "            \n",
    "            if(traveler_array[x][y] == 0):\n",
    "                count = 1\n",
    "                print(\"Distance to Destination: \",destination_array[x], \"miles to the destination\")\n",
    "            else:\n",
    "                local_total += traveler_array[x][y] + destination_array[x]\n",
    "                count = 2\n",
    "                local_list.append(local_total)\n",
    "                \n",
    "                #print the outcomes. Comment out when finished\n",
    "                \n",
    "                if((local_total / count) < destination_array[x]):\n",
    "                    print(\"1. Distance to Destination: \", local_total,\" miles total traveled \", local_total / count,\" miles per person ,with this many people: \", count)\n",
    "                else:\n",
    "                    print(\"2. Distance to Destination: \", local_total,\" miles total traveled \", local_total / count,\" miles per person ,with this many people: \", count)\n",
    "        print(local_list)\n",
    "        \n",
    "        "
   ]
  },
  {
   "cell_type": "code",
   "execution_count": 15,
   "id": "53017c9b",
   "metadata": {},
   "outputs": [
    {
     "name": "stdout",
     "output_type": "stream",
     "text": [
      "Traveler  1\n",
      "Distance to Destination:  33 miles to the destination\n",
      "1. Distance to Destination:  33.1  miles total traveled  16.55  miles per person ,with this many people:  2\n",
      "1. Distance to Destination:  55  miles total traveled  27.5  miles per person ,with this many people:  2\n",
      "1. Distance to Destination:  62  miles total traveled  31.0  miles per person ,with this many people:  2\n",
      "2. Distance to Destination:  76  miles total traveled  38.0  miles per person ,with this many people:  2\n",
      "[33.1, 55, 62, 76]\n",
      "Traveler  2\n",
      "1. Distance to Destination:  33.0  miles total traveled  16.5  miles per person ,with this many people:  2\n",
      "Distance to Destination:  32.9 miles to the destination\n",
      "1. Distance to Destination:  54.9  miles total traveled  27.45  miles per person ,with this many people:  2\n",
      "1. Distance to Destination:  61.9  miles total traveled  30.95  miles per person ,with this many people:  2\n",
      "2. Distance to Destination:  75.9  miles total traveled  37.95  miles per person ,with this many people:  2\n",
      "[33.0, 54.9, 61.9, 75.9]\n",
      "Traveler  3\n",
      "2. Distance to Destination:  34  miles total traveled  17.0  miles per person ,with this many people:  2\n",
      "2. Distance to Destination:  34  miles total traveled  17.0  miles per person ,with this many people:  2\n",
      "Distance to Destination:  12 miles to the destination\n",
      "1. Distance to Destination:  18  miles total traveled  9.0  miles per person ,with this many people:  2\n",
      "2. Distance to Destination:  52  miles total traveled  26.0  miles per person ,with this many people:  2\n",
      "[34, 34, 18, 52]\n",
      "Traveler  4\n",
      "2. Distance to Destination:  40  miles total traveled  20.0  miles per person ,with this many people:  2\n",
      "2. Distance to Destination:  40  miles total traveled  20.0  miles per person ,with this many people:  2\n",
      "1. Distance to Destination:  17  miles total traveled  8.5  miles per person ,with this many people:  2\n",
      "Distance to Destination:  11 miles to the destination\n",
      "2. Distance to Destination:  45  miles total traveled  22.5  miles per person ,with this many people:  2\n",
      "[40, 40, 17, 45]\n",
      "Traveler  5\n",
      "2. Distance to Destination:  82  miles total traveled  41.0  miles per person ,with this many people:  2\n",
      "2. Distance to Destination:  82  miles total traveled  41.0  miles per person ,with this many people:  2\n",
      "2. Distance to Destination:  79  miles total traveled  39.5  miles per person ,with this many people:  2\n",
      "1. Distance to Destination:  73  miles total traveled  36.5  miles per person ,with this many people:  2\n",
      "Distance to Destination:  39 miles to the destination\n",
      "[82, 82, 79, 73]\n"
     ]
    }
   ],
   "source": [
    "travel_with_carpooling(destination, distance_to_traveler)"
   ]
  },
  {
   "cell_type": "code",
   "execution_count": 118,
   "id": "c26f36e5",
   "metadata": {},
   "outputs": [],
   "source": [
    "def travel_with_carpooling(destination_array, traveler_array, gas_price):\n",
    "    total = 0\n",
    "    travelers = len(destination_array)\n",
    "    carpool_group = {}\n",
    "    for x in range(travelers):\n",
    "        #create list of all possible distances to the nearest traveler\n",
    "        carpool_group[x] = []\n",
    "        for y in range(travelers):\n",
    "            if(traveler_array[x][y] == 0):\n",
    "                #add distance to final destination into the list\n",
    "                carpool_group[x].append(destination_array[x])\n",
    "            else:\n",
    "                #get the distance to another traveler, then distance to final destination divded by two (they'll split the gas with traveling together)\n",
    "                carpool_group[x].append(traveler_array[x][y] + (destination_array[y] / 2))\n",
    "                \n",
    "    #print(carpool_group)\n",
    "    \n",
    "    group = []\n",
    "    \n",
    "    #create groupings based on minimum value of distance traveled.\n",
    "    for x in range(x+1):\n",
    "        # skip index in car_pool_group if grouping already exsist\n",
    "        if(x not in group):\n",
    "            group.append(carpool_group[x].index(min(carpool_group[x])))\n",
    "            total += min(carpool_group[x])\n",
    "    print(\"Total Cost: \", total * gas_price)"
   ]
  },
  {
   "cell_type": "code",
   "execution_count": 119,
   "id": "cd846683",
   "metadata": {},
   "outputs": [
    {
     "name": "stdout",
     "output_type": "stream",
     "text": [
      "Total Cost:  284.9625\n"
     ]
    }
   ],
   "source": [
    "travel_with_carpooling(destination, distance_to_traveler, 4.25)"
   ]
  },
  {
   "cell_type": "code",
   "execution_count": null,
   "id": "4d5dc790",
   "metadata": {},
   "outputs": [],
   "source": [
    "#this only goes through 1 level of the neighbors. Next iteration will go through all possible scenarios with multiple cars carpooling."
   ]
  }
 ],
 "metadata": {
  "kernelspec": {
   "display_name": "Python 3",
   "language": "python",
   "name": "python3"
  },
  "language_info": {
   "codemirror_mode": {
    "name": "ipython",
    "version": 3
   },
   "file_extension": ".py",
   "mimetype": "text/x-python",
   "name": "python",
   "nbconvert_exporter": "python",
   "pygments_lexer": "ipython3",
   "version": "3.8.8"
  }
 },
 "nbformat": 4,
 "nbformat_minor": 5
}
